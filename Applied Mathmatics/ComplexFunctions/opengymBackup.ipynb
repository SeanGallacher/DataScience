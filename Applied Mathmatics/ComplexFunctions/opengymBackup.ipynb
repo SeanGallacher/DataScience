{
 "nbformat": 4,
 "nbformat_minor": 0,
 "metadata": {
  "colab": {
   "name": "opengym.ipynb",
   "provenance": [],
   "collapsed_sections": []
  },
  "kernelspec": {
   "name": "python3",
   "display_name": "Python 3"
  },
  "language_info": {
   "name": "python"
  }
 },
 "cells": [
  {
   "cell_type": "markdown",
   "metadata": {
    "id": "xQ1tKnrK4TcN"
   },
   "source": [
    "\n",
    "## Volume 2: OpenGym\n",
    "\n"
   ]
  },
  {
   "cell_type": "markdown",
   "metadata": {
    "id": "3qbA8CjB3_IL"
   },
   "source": [
    "<Name\\>\n",
    "<Class\\>\n",
    "<Date\\>\n",
    "\n",
    "\n",
    "\n"
   ]
  },
  {
   "cell_type": "markdown",
   "metadata": {
    "id": "AUZ1Wq-8NwSn"
   },
   "source": [
    "**Note:** Some IPython notebook platforms (such as Google Colab) do not currently support rendering OpenAI environments. In order to properly render the OpenGym environments in this lab, you may need to run the Jupyter Notebook locally (for example, run it in VSCode or from the command line)."
   ]
  },
  {
   "cell_type": "code",
   "execution_count": 32,
   "outputs": [],
   "source": [],
   "metadata": {
    "collapsed": false,
    "pycharm": {
     "name": "#%%\n"
    }
   }
  },
  {
   "cell_type": "code",
   "execution_count": 32,
   "outputs": [],
   "source": [],
   "metadata": {
    "collapsed": false,
    "pycharm": {
     "name": "#%%\n"
    }
   }
  },
  {
   "cell_type": "code",
   "metadata": {
    "id": "XqeTGS1PNvZ7"
   },
   "source": [
    "pip install pygame"
   ],
   "execution_count": 33,
   "outputs": [
    {
     "name": "stdout",
     "output_type": "stream",
     "text": [
      "Collecting pygame\r\n",
      "  Downloading pygame-2.1.2-cp38-cp38-macosx_10_9_x86_64.whl (8.9 MB)\r\n",
      "\u001B[K     |████████████████████████████████| 8.9 MB 4.4 MB/s eta 0:00:01\r\n",
      "\u001B[?25hInstalling collected packages: pygame\r\n",
      "Successfully installed pygame-2.1.2\r\n",
      "Note: you may need to restart the kernel to use updated packages.\n"
     ]
    }
   ]
  },
  {
   "cell_type": "code",
   "metadata": {
    "id": "ZlMKi7Fx35TI"
   },
   "source": [
    "import gym\n",
    "from gym import envs\n",
    "import numpy as np\n",
    "from IPython.display import clear_output\n",
    "import random\n",
    "from matplotlib import pyplot as plt"
   ],
   "execution_count": 41,
   "outputs": []
  },
  {
   "cell_type": "markdown",
   "metadata": {
    "id": "W-rNQLwd429z"
   },
   "source": [
    "**Problem 1**\n",
    "\n",
    "*   Implement `random_blackjack()`.\n",
    "*   Run the game 500 times and output the percentage of games that are wins.\n",
    "\n"
   ]
  },
  {
   "cell_type": "code",
   "metadata": {
    "id": "lrhUolvq45vh"
   },
   "source": [
    "# Problem 1\n",
    "def random_blackjack(n):\n",
    "    \"\"\"\n",
    "    Play a random game of Blackjack. Determine the\n",
    "    percentage the player wins out of n times.\n",
    "    Parameters:\n",
    "        n (int): number of iterations\n",
    "    Returns:\n",
    "        percent (float): percentage that the player\n",
    "                         wins\n",
    "    \"\"\"\n",
    "    wins = 0\n",
    "    for i in range(n):\n",
    "        env = gym.make(\"Blackjack-v1\")\n",
    "        observation = env.reset()\n",
    "        done = False\n",
    "\n",
    "        while not done:\n",
    "            observation = env.step(env.action_space.sample())\n",
    "            #print(observation)\n",
    "            done = observation[2]\n",
    "        if observation[1] ==1: wins += 1\n",
    "    env.close()\n",
    "    return wins/n\n",
    "\n"
   ],
   "execution_count": 42,
   "outputs": []
  },
  {
   "cell_type": "code",
   "execution_count": 42,
   "outputs": [],
   "source": [],
   "metadata": {
    "collapsed": false,
    "pycharm": {
     "name": "#%%\n"
    }
   }
  },
  {
   "cell_type": "code",
   "metadata": {
    "id": "JF-bS3gyIx4k"
   },
   "source": [
    "# Run the game here\n",
    "random_blackjack(500)"
   ],
   "execution_count": 43,
   "outputs": [
    {
     "data": {
      "text/plain": "0.268"
     },
     "execution_count": 43,
     "metadata": {},
     "output_type": "execute_result"
    }
   ]
  },
  {
   "cell_type": "markdown",
   "metadata": {
    "id": "xfZPCIMC5JmB"
   },
   "source": [
    "**Problem 2**\n",
    "\n",
    "* Implement `blackjack()`.\n",
    "* For `n` = 1, 2, ..., 21, plot the win percentage after 10,000 games of Blackjack.\n",
    "* Identify which value of `n` gives the highest win rate."
   ]
  },
  {
   "cell_type": "code",
   "metadata": {
    "id": "6Uv7AD8I5LWk"
   },
   "source": [
    "# Problem 2\n",
    "def blackjack(n=11):\n",
    "    \"\"\"\n",
    "    Play blackjack with naive algorithm.\n",
    "    Parameters:\n",
    "        n (int): maximum accepted player hand\n",
    "    Return:\n",
    "        percent (float): percentage of 10000 iterations\n",
    "                         that the player wins\n",
    "    \"\"\"\n",
    "    wins = 0\n",
    "    for i in range(n):\n",
    "        env = gym.make(\"Blackjack-v1\")\n",
    "        observation = env.reset()\n",
    "        done = False\n",
    "        while not done:\n",
    "            observation = env.step(1)\n",
    "            #print(observation)\n",
    "            done = observation[0][0] >= n\n",
    "            if done:\n",
    "                observation = env.step(0)\n",
    "        if observation[1] == 1: wins += 1\n",
    "    env.close()\n",
    "    return wins/n"
   ],
   "execution_count": 44,
   "outputs": []
  },
  {
   "cell_type": "code",
   "metadata": {
    "id": "miBtqMaVIjFJ"
   },
   "source": [
    "# Plot here\n",
    "wins = []\n",
    "ns = [i for i in range(1,21)]\n",
    "wins = [np.mean([blackjack(i) for n in range(10000)]) for i in ns]\n",
    "print(wins)\n",
    "plt.plot(ns,wins, label='wins by stoping number')\n",
    "plt.show()"
   ],
   "execution_count": 46,
   "outputs": [
    {
     "name": "stdout",
     "output_type": "stream",
     "text": [
      "[0.2882, 0.28425, 0.2838333333333333, 0.2887, 0.2913800000000001, 0.2871833333333333, 0.28952857142857136, 0.2877625, 0.2901777777777778, 0.29045, 0.2913272727272727, 0.2936833333333333, 0.29608461538461545, 0.29654285714285716, 0.29262, 0.29281875, 0.28825294117647055, 0.2808611111111111, 0.2576631578947368, 0.20740999999999998]\n"
     ]
    },
    {
     "data": {
      "text/plain": "<Figure size 432x288 with 1 Axes>",
      "image/png": "[encoded data removed]"
     },
     "metadata": {
      "needs_background": "light"
     },
     "output_type": "display_data"
    },
    {
     "name": "stdout",
     "output_type": "stream",
     "text": [
      "[0.289, 0.2882, 0.2897, 0.286225, 0.29024000000000005, 0.2892333333333334, 0.28868571428571427, 0.2897875, 0.2886444444444445, 0.28663, 0.2916181818181818, 0.29506666666666664, 0.29533846153846155, 0.29548571428571424, 0.2946733333333334, 0.29130625, 0.28761176470588234, 0.28107777777777776, 0.25668421052631574, 0.20759]\n"
     ]
    },
    {
     "data": {
      "text/plain": "<Figure size 432x288 with 1 Axes>",
      "image/png": "[encoded data removed]"
     },
     "metadata": {
      "needs_background": "light"
     },
     "output_type": "display_data"
    },
    {
     "name": "stdout",
     "output_type": "stream",
     "text": [
      "[0.2883, 0.28985, 0.2897, 0.28915, 0.29140000000000005, 0.28905, 0.2879, 0.2879875, 0.2891666666666667, 0.29156, 0.2933272727272727, 0.2920416666666666, 0.2941384615384615, 0.2949, 0.29514, 0.2927125, 0.28874705882352936, 0.2834833333333333, 0.2588894736842105, 0.20891499999999996]\n"
     ]
    },
    {
     "data": {
      "text/plain": "<Figure size 432x288 with 1 Axes>",
      "image/png": "[encoded data removed]"
     },
     "metadata": {
      "needs_background": "light"
     },
     "output_type": "display_data"
    }
   ]
  },
  {
   "cell_type": "markdown",
   "metadata": {
    "id": "lY8vR6Ygxxk-"
   },
   "source": [
    "*Identify which value(s) give the highest winrate here*"
   ]
  },
  {
   "cell_type": "markdown",
   "metadata": {
    "id": "i9xB1KaZ5OJ3"
   },
   "source": [
    "**Problem 3**\n",
    "\n",
    "* Implement `cartpole()`.\n",
    "* Render the game and run your function once.\n",
    "* Run Cartpole 100 times (without rendering) and print out the average number of steps before it terminates."
   ]
  },
  {
   "cell_type": "code",
   "execution_count": 47,
   "outputs": [],
   "source": [
    "import math\n"
   ],
   "metadata": {
    "collapsed": false,
    "pycharm": {
     "name": "#%%\n"
    }
   }
  },
  {
   "cell_type": "code",
   "metadata": {
    "id": "AGEUkBOx5Qbk"
   },
   "source": [
    "# Problem 3\n",
    "import gym\n",
    "from gym import envs\n",
    "def cartpole(render=False):\n",
    "    \"\"\"\n",
    "    Solve CartPole-v0 by checking the velocity\n",
    "    of the tip of the pole.\n",
    "    Parameters: \n",
    "        render (bool): If True, render environment at each step\n",
    "    Return:\n",
    "        iterations (integer): number of steps or iterations\n",
    "                              to solve the environment\n",
    "    \"\"\"\n",
    "    env = gym.make('CartPole-v0')\n",
    "    observation = env.reset()\n",
    "    done = False\n",
    "    iters = 0\n",
    "    dir = 0\n",
    "    cartpos =0\n",
    "    angle = observation[3]\n",
    "    velocity = observation[2]\n",
    "    if angle > 0:\n",
    "        dir = 0\n",
    "    if angle < 0:\n",
    "        dir = 1\n",
    "    while np.abs(angle) < 12 and abs(cartpos) < 2.4 and iters < 200:\n",
    "        if render: env.render()\n",
    "        observation = env.step(dir)\n",
    "        cartpos = observation[0][0]\n",
    "        angle = observation[0][3]\n",
    "        velocity = observation[0][2]\n",
    "        if angle < 0:\n",
    "            dir = 0\n",
    "        if angle > 0:\n",
    "            dir = 1\n",
    "        pv = velocity\n",
    "        pa = angle\n",
    "        iters+=1\n",
    "    return iters\n"
   ],
   "execution_count": 73,
   "outputs": []
  },
  {
   "cell_type": "markdown",
   "source": [],
   "metadata": {
    "collapsed": false
   }
  },
  {
   "cell_type": "code",
   "execution_count": 73,
   "outputs": [],
   "source": [],
   "metadata": {
    "collapsed": false,
    "pycharm": {
     "name": "#%%\n"
    }
   }
  },
  {
   "cell_type": "code",
   "execution_count": 73,
   "outputs": [],
   "source": [],
   "metadata": {
    "collapsed": false,
    "pycharm": {
     "name": "#%%\n"
    }
   }
  },
  {
   "cell_type": "code",
   "metadata": {
    "id": "78iSdRs6wZKb"
   },
   "source": [
    "# Render the game and run once here\n",
    "cartpole(False)"
   ],
   "execution_count": 74,
   "outputs": [
    {
     "name": "stderr",
     "output_type": "stream",
     "text": [
      "/Users/sean/opt/anaconda3/lib/python3.8/site-packages/gym/envs/registration.py:505: UserWarning: \u001B[33mWARN: The environment CartPole-v0 is out of date. You should consider upgrading to version `v1` with the environment ID `CartPole-v1`.\u001B[0m\n",
      "  logger.warn(\n"
     ]
    },
    {
     "data": {
      "text/plain": "200"
     },
     "execution_count": 49,
     "metadata": {},
     "output_type": "execute_result"
    },
    {
     "data": {
      "text/plain": "200"
     },
     "execution_count": 61,
     "metadata": {},
     "output_type": "execute_result"
    },
    {
     "data": {
      "text/plain": "140"
     },
     "execution_count": 74,
     "metadata": {},
     "output_type": "execute_result"
    }
   ]
  },
  {
   "cell_type": "code",
   "execution_count": 74,
   "outputs": [],
   "source": [],
   "metadata": {
    "collapsed": false,
    "pycharm": {
     "name": "#%%\n"
    }
   }
  },
  {
   "cell_type": "code",
   "metadata": {
    "id": "EaNbYfsuIhxN"
   },
   "source": [
    "# Run the game here and print average stepso termination\n",
    "ave = np.mean([cartpole() for i in range (100)])\n",
    "ave\n"
   ],
   "execution_count": 75,
   "outputs": [
    {
     "data": {
      "text/plain": "176.0"
     },
     "execution_count": 50,
     "metadata": {},
     "output_type": "execute_result"
    },
    {
     "data": {
      "text/plain": "186.5"
     },
     "execution_count": 62,
     "metadata": {},
     "output_type": "execute_result"
    },
    {
     "data": {
      "text/plain": "181.7"
     },
     "execution_count": 75,
     "metadata": {},
     "output_type": "execute_result"
    }
   ]
  },
  {
   "cell_type": "markdown",
   "metadata": {
    "id": "TPFFk0nX5U_b"
   },
   "source": [
    "**Problem 4**\n",
    "\n",
    "* Implement `car()`.\n",
    "* Render the game and run your function once.\n",
    "* Run MountainCar 100 times (without rendering) and print out the average number of steps before it terminates."
   ]
  },
  {
   "cell_type": "code",
   "metadata": {
    "id": "Lqq3Q6EO5Wgq"
   },
   "source": [
    "# Problem 4\n",
    "import gym\n",
    "def car(render=False):\n",
    "    \"\"\"\n",
    "    Solve MountainCar-v0 by checking the position\n",
    "    of the car.\n",
    "    Parameters: \n",
    "        render (bool): If True, render environment at each step\n",
    "    Return:\n",
    "        iterations (integer): number of steps or iterations\n",
    "                              to solve the environment\n",
    "    \"\"\"\n",
    "    env = gym.make(\"MountainCar-v0\")\n",
    "    pos, pv = env.reset()\n",
    "    dir = 0\n",
    "    done = False\n",
    "    its = 0\n",
    "    while not done:\n",
    "        if render: env.render()\n",
    "        ob = env.step((dir))\n",
    "        pos, vel = ob[0]\n",
    "        done =  ob[2]\n",
    "        its +=1\n",
    "        pv = vel\n",
    "        if vel < 0:\n",
    "            dir = 0\n",
    "        else: dir = 2\n",
    "        #print(pos, vel)\n",
    "    return its\n"
   ],
   "execution_count": 76,
   "outputs": []
  },
  {
   "cell_type": "code",
   "metadata": {
    "id": "4_kSEBYdwgnc"
   },
   "source": [
    "# Render the game here\n",
    "car(False)"
   ],
   "execution_count": 77,
   "outputs": [
    {
     "data": {
      "text/plain": "155"
     },
     "execution_count": 52,
     "metadata": {},
     "output_type": "execute_result"
    },
    {
     "data": {
      "text/plain": "87"
     },
     "execution_count": 64,
     "metadata": {},
     "output_type": "execute_result"
    },
    {
     "data": {
      "text/plain": "154"
     },
     "execution_count": 77,
     "metadata": {},
     "output_type": "execute_result"
    }
   ]
  },
  {
   "cell_type": "code",
   "metadata": {
    "id": "fUsBDn6KIgw5"
   },
   "source": [
    "# Run the game here and print average steps to termination\n",
    "ave = np.mean([car() for i in range (100)])\n",
    "ave"
   ],
   "execution_count": 78,
   "outputs": [
    {
     "data": {
      "text/plain": "131.32"
     },
     "execution_count": 53,
     "metadata": {},
     "output_type": "execute_result"
    },
    {
     "data": {
      "text/plain": "126.59"
     },
     "execution_count": 65,
     "metadata": {},
     "output_type": "execute_result"
    },
    {
     "data": {
      "text/plain": "125.43"
     },
     "execution_count": 78,
     "metadata": {},
     "output_type": "execute_result"
    }
   ]
  },
  {
   "cell_type": "code",
   "execution_count": 78,
   "outputs": [],
   "source": [],
   "metadata": {
    "collapsed": false,
    "pycharm": {
     "name": "#%%\n"
    }
   }
  },
  {
   "cell_type": "markdown",
   "metadata": {
    "id": "U5tSd-zE4sHZ"
   },
   "source": [
    "**Helper Function for Problem 5**"
   ]
  },
  {
   "cell_type": "code",
   "metadata": {
    "id": "zNNc3x9x09Zr"
   },
   "source": [
    "def find_qvalues(env,alpha=.1,gamma=.6,epsilon=.1):\n",
    "    \"\"\"\n",
    "    Use the Q-learning algorithm to find qvalues.\n",
    "    Parameters:\n",
    "        env (str): environment name\n",
    "        alpha (float): learning rate\n",
    "        gamma (float): discount factor\n",
    "        epsilon (float): maximum value\n",
    "    Returns:\n",
    "        q_table (ndarray nxm)\n",
    "    \"\"\"\n",
    "    # Make environment\n",
    "    env = gym.make(env)\n",
    "    # Make Q-table\n",
    "    q_table = np.zeros((env.observation_space.n,env.action_space.n))\n",
    "\n",
    "    # Train\n",
    "    for i in range(1,100001):\n",
    "        # Reset state\n",
    "        state = env.reset()\n",
    "\n",
    "        epochs, penalties, reward, = 0,0,0\n",
    "        done = False\n",
    "\n",
    "        while not done:\n",
    "            # Accept based on alpha\n",
    "            if random.uniform(0,1) < epsilon:\n",
    "                action = env.action_space.sample()\n",
    "            else:\n",
    "                action = np.argmax(q_table[state])\n",
    "\n",
    "            # Take action\n",
    "            next_state, reward, done, info = env.step(action)\n",
    "\n",
    "            # Calculate new qvalue\n",
    "            old_value = q_table[state,action]\n",
    "            next_max = np.max(q_table[next_state])\n",
    "\n",
    "            new_value = (1-alpha) * old_value + alpha * (reward + gamma * next_max)\n",
    "            q_table[state, action] = new_value\n",
    "\n",
    "            # Check if penalty is made\n",
    "            if reward == -10:\n",
    "                penalties += 1\n",
    "\n",
    "            # Get next observation\n",
    "            state = next_state\n",
    "            epochs += 1\n",
    "\n",
    "        # Print episode number\n",
    "        if i % 100 == 0:\n",
    "            clear_output(wait=True)\n",
    "            print(f\"Episode: {i}\")\n",
    "\n",
    "    print(\"Training finished.\")\n",
    "    return q_table\n"
   ],
   "execution_count": 79,
   "outputs": []
  },
  {
   "cell_type": "markdown",
   "metadata": {
    "id": "ZODhO4AS5YQq"
   },
   "source": [
    "**Problem 5**\n",
    "\n",
    "* Render the \"`Taxi-v3`\" environment, act randomly until it terminates, and calculate the total reward\n",
    "* Render the \"`Taxi-v3`\" environment, use the Q-table to act optimally until it terminates, and calculate the total reward\n",
    "* Implement `taxi()`, then use it to print the average total reward for each algorithm.\n"
   ]
  },
  {
   "cell_type": "code",
   "metadata": {
    "id": "e3i-LEnYKHyz"
   },
   "source": [
    "# Random actions Taxi game"
   ],
   "execution_count": 80,
   "outputs": []
  },
  {
   "cell_type": "code",
   "execution_count": 81,
   "outputs": [],
   "source": [
    "def ranTaxi():\n",
    "    env = gym.make(\"Taxi-v3\")\n",
    "    observation = env.reset()\n",
    "    done = False\n",
    "    reward =0\n",
    "    while not done:\n",
    "        observation, rewardAdd, done,info = env.step(    env.action_space.sample())\n",
    "        reward += rewardAdd\n",
    "    return reward\n",
    "\n"
   ],
   "metadata": {
    "collapsed": false,
    "pycharm": {
     "name": "#%%\n"
    }
   }
  },
  {
   "cell_type": "code",
   "execution_count": 81,
   "outputs": [],
   "source": [],
   "metadata": {
    "collapsed": false,
    "pycharm": {
     "name": "#%%\n"
    }
   }
  },
  {
   "cell_type": "code",
   "metadata": {
    "id": "0ejXeML7KJSJ"
   },
   "source": [
    "# Q-table actions Taxi game\n",
    "q_table = find_qvalues(\"Taxi-v3\")"
   ],
   "execution_count": 82,
   "outputs": [
    {
     "name": "stdout",
     "output_type": "stream",
     "text": [
      "Episode: 100000\n",
      "Training finished.\n"
     ]
    }
   ]
  },
  {
   "cell_type": "code",
   "metadata": {
    "id": "APK2iYQV5aR4"
   },
   "source": [
    "import gym\n",
    "def taxi(q_table):\n",
    "    \"\"\"\n",
    "    Compare naive and q-learning algorithms.\n",
    "    Parameters:\n",
    "        q_table (ndarray nxm): table of qvalues\n",
    "    Returns:\n",
    "        naive (float): mean reward of naive algorithm\n",
    "                       of 10000 runs\n",
    "        q_reward (float): mean reward of Q-learning algorithm\n",
    "                          of 10000 runs\n",
    "    \"\"\"\n",
    "    env = gym.make(\"Taxi-v3\")\n",
    "    observation = env.reset()\n",
    "    action = np.argmax(q_table[observation,:])\n",
    "    done1 = False\n",
    "    reward1 = 0\n",
    "    while not done1:\n",
    "        env.render()\n",
    "        observation, reward1add, done1,info = env.step((action))\n",
    "        action = np.argmax(q_table[observation,:])\n",
    "        reward1 += reward1add\n",
    "\n",
    "    reward2 =ranTaxi()\n",
    "    #print(reward1, reward2)\n",
    "    return reward1, reward2\n",
    "\n",
    "\n",
    "\n"
   ],
   "execution_count": 86,
   "outputs": []
  },
  {
   "cell_type": "code",
   "execution_count": 87,
   "outputs": [
    {
     "name": "stdout",
     "output_type": "stream",
     "text": [
      "+---------+\n",
      "|\u001B[34;1mR\u001B[0m: | : :G|\n",
      "|\u001B[43m \u001B[0m: | : : |\n",
      "| : : : : |\n",
      "| | : | : |\n",
      "|\u001B[35mY\u001B[0m| : |B: |\n",
      "+---------+\n",
      "\n",
      "+---------+\n",
      "|\u001B[34;1m\u001B[43mR\u001B[0m\u001B[0m: | : :G|\n",
      "| : | : : |\n",
      "| : : : : |\n",
      "| | : | : |\n",
      "|\u001B[35mY\u001B[0m| : |B: |\n",
      "+---------+\n",
      "  (North)\n",
      "+---------+\n",
      "|\u001B[42mR\u001B[0m: | : :G|\n",
      "| : | : : |\n",
      "| : : : : |\n",
      "| | : | : |\n",
      "|\u001B[35mY\u001B[0m| : |B: |\n",
      "+---------+\n",
      "  (Pickup)\n",
      "+---------+\n",
      "|R: | : :G|\n",
      "|\u001B[42m_\u001B[0m: | : : |\n",
      "| : : : : |\n",
      "| | : | : |\n",
      "|\u001B[35mY\u001B[0m| : |B: |\n",
      "+---------+\n",
      "  (South)\n",
      "+---------+\n",
      "|R: | : :G|\n",
      "| : | : : |\n",
      "|\u001B[42m_\u001B[0m: : : : |\n",
      "| | : | : |\n",
      "|\u001B[35mY\u001B[0m| : |B: |\n",
      "+---------+\n",
      "  (South)\n",
      "+---------+\n",
      "|R: | : :G|\n",
      "| : | : : |\n",
      "| : : : : |\n",
      "|\u001B[42m_\u001B[0m| : | : |\n",
      "|\u001B[35mY\u001B[0m| : |B: |\n",
      "+---------+\n",
      "  (South)\n",
      "+---------+\n",
      "|R: | : :G|\n",
      "| : | : : |\n",
      "| : : : : |\n",
      "| | : | : |\n",
      "|\u001B[35m\u001B[42mY\u001B[0m\u001B[0m| : |B: |\n",
      "+---------+\n",
      "  (South)\n"
     ]
    },
    {
     "data": {
      "text/plain": "(14, -740)"
     },
     "execution_count": 87,
     "metadata": {},
     "output_type": "execute_result"
    }
   ],
   "source": [
    "taxi(q_table)"
   ],
   "metadata": {
    "collapsed": false,
    "pycharm": {
     "name": "#%%\n"
    }
   }
  },
  {
   "cell_type": "code",
   "metadata": {
    "id": "PhS7JR1JKOQu"
   },
   "source": [
    "# Print the average rewards of the Taxi game for both algorithms run 10,000 times\n",
    "ave = np.array([np.array(taxi(q_table)) for i in range (10000)])\n",
    "ave1 = np.mean(ave[:,0])\n",
    "ave2 = np.mean(ave[:,1])\n",
    "ave1, ave2"
   ],
   "execution_count": 85,
   "outputs": [
    {
     "data": {
      "text/plain": "(7.974, -771.4294)"
     },
     "execution_count": 60,
     "metadata": {},
     "output_type": "execute_result"
    },
    {
     "data": {
      "text/plain": "(7.9552, -771.6891)"
     },
     "execution_count": 72,
     "metadata": {},
     "output_type": "execute_result"
    },
    {
     "data": {
      "text/plain": "(7.9199, -769.809)"
     },
     "execution_count": 85,
     "metadata": {},
     "output_type": "execute_result"
    }
   ]
  },
  {
   "cell_type": "code",
   "execution_count": null,
   "outputs": [],
   "source": [],
   "metadata": {
    "collapsed": false,
    "pycharm": {
     "name": "#%%\n"
    }
   }
  }
 ]
}