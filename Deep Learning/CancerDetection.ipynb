{
  "cells": [
    {
      "cell_type": "markdown",
      "metadata": {
        "id": "tpnN_XZwq_vc"
      },
      "source": [
        "<a href=\"https://colab.research.google.com/github/wingated/cs474_labs_f2019/blob/master/DL_Lab4.ipynb\" target=\"_parent\"><img src=\"https://colab.research.google.com/assets/colab-badge.svg\" alt=\"Open In Colab\"/></a>"
      ]
    },
    {
      "cell_type": "markdown",
      "metadata": {
        "id": "view-in-github"
      },
      "source": [
        "# Lab 4: Cancer Detection\n",
        "\n",
        "## Objective\n",
        "* To build a dense prediction model\n",
        "* To begin reading current papers in DNN research\n",
        "\n",
        "## Deliverable\n",
        "For this lab, you will turn in a notebook that describes your efforts at creating\n",
        "a pytorch radiologist. Your final deliverable is a notebook that has (1) a deep network,\n",
        "(2) method of calculating accuracy, \n",
        "(3) images that show the dense prediction produced by your network on the pos_test_000072.png image (index 172 in the validation dataset).\n",
        "This is an image in the test set that your network will not have seen before.\n",
        "This image, and the ground truth labeling, is shown below.\n",
        "(And is contained in the downloadable dataset below).\n",
        "\n",
        "![](http://liftothers.org/dokuwiki/lib/exe/fetch.php?w=200&tok=a8ac31&media=cs501r_f2016:pos_test_000072_output.png)\n",
        "<img src=\"http://liftothers.org/dokuwiki/lib/exe/fetch.php?media=cs501r_f2016:pos_test_000072.png\" width=\"200\">\n",
        "\n",
        "\n",
        "## Grading standards\n",
        "Your notebook will be graded on the following:\n",
        "* 40% Proper design, creation and debugging of a dense prediction network\n",
        "* 20% Proper implementation of train/test set accuracy measure\n",
        "* 20% Tidy visualizations of loss of your dense predictor during training\n",
        "* 20% Test image output\n",
        "\n",
        "\n",
        "## Data set\n",
        "The data is given as a set of 1024×1024 PNG images. Each input image (in \n",
        "the ```inputs``` directory) is an RGB image of a section of tissue,\n",
        "and there a file with the same name (in the ```outputs``` directory) \n",
        "that has a dense labeling of whether or not a section of tissue is cancerous\n",
        "(white pixels mean “cancerous”, while black pixels mean “not cancerous”).\n",
        "\n",
        "The data has been pre-split for you into test and training splits.\n",
        "Filenames also reflect whether or not the image has any cancer at all \n",
        "(files starting with ```pos_``` have some cancerous pixels, while files \n",
        "starting with ```neg_``` have no cancer anywhere).\n",
        "All of the data is hand-labeled, so the dataset is not very large.\n",
        "That means that overfitting is a real possibility.\n",
        "\n",
        "## Description\n",
        "For a video including some tips and tricks that can help with this lab: [https://youtu.be/Ms19kgK_D8w](https://youtu.be/Ms19kgK_D8w)\n",
        "For this lab, you will implement a virtual radiologist.\n",
        "You are given images of possibly cancerous tissue samples, \n",
        "and you must build a detector that identifies where in the tissue cancer may reside.\n",
        "\n",
        "---\n",
        "\n",
        "### Part 0\n",
        "Watch and follow video tutorial:\n",
        "\n",
        "https://youtu.be/Ms19kgK_D8w\n",
        "\n",
        "**TODO:**\n",
        "\n",
        "* Watch tutorial\n",
        "\n",
        "**DONE:**\n",
        "\n",
        "### Part 1\n",
        "Implement a dense predictor\n",
        "\n",
        "In previous labs and lectures, we have talked about DNNs that classify an \n",
        "entire image as a single class. Here, however, we are interested in a more nuanced classification: \n",
        "given an input image, we would like to identify each pixel that is possibly cancerous. \n",
        "That means that instead of a single output, your network should output an “image”, \n",
        "where each output pixel of your network represents the probability that a pixel is cancerous.\n",
        "\n",
        "___\n",
        "\n",
        "Implement your network topology\n",
        "\n",
        "Use the “Deep Convolution U-Net” from this paper: [(U-Net: Convolutional Networks for Biomedical Image Segmentation)](https://arxiv.org/pdf/1505.04597.pdf) \n",
        "\n",
        "![(Figure 1)](https://lh3.googleusercontent.com/qnHiB3B2KRxC3NjiSDtY08_DgDGTDsHcO6PP53oNRuct-p2QXCR-gyLkDveO850F2tTAhIOPC5Ha06NP9xq1JPsVAHlQ5UXA5V-9zkUrJHGhP_MNHFoRGnjBz1vn1p8P2rMWhlAb6HQ=w2400)\n",
        "\n",
        "You should use existing pytorch functions (not your own Conv2D module), such as ```nn.Conv2d``` and ```nn.CrossEntropyLoss```;\n",
        "you will also need the pytorch function ```torch.cat``` and ```nn.ConvTranspose2d```\n",
        "\n",
        "```torch.cat``` allows you to concatenate tensors.\n",
        "```nn.ConvTranspose2d``` is the opposite of ```nn.Conv2d```.\n",
        "It is used to bring an image from low res to higher res.\n",
        "[This blog](https://towardsdatascience.com/up-sampling-with-transposed-convolution-9ae4f2df52d0) should help you understand this function in detail.\n",
        "\n",
        "You can simplify the implementation of this lab by padding the feature maps as they pass through each convolution. This will make the concatenation process easier, though this is technically a departure from the cropping technique outlined in the orginal U-Net paper. \n",
        "\n",
        "Note that the simplest network you could implement (with all the desired properties)\n",
        "is just a single convolution layer with two filters and no relu! \n",
        "Why is that? (of course it wouldn't work very well!)\n",
        "\n",
        "**TODO:**\n",
        "\n",
        "* Understand the U-Net architecture\n",
        "* Understand concatenation of inputs from multiple prior layers\n",
        "* Understand ConvTranspose\n",
        "* Answer Question / Reflect on simplest network with the desired properties\n",
        "\n",
        "**DONE:**\n",
        "\n",
        "\n",
        "___\n",
        "The intention of this lab is to learn how to make deep neural nets. We'll help you with the implementation of Dataset.\n",
        "This code will download the dataset for you so that you are ready to use it and focus on network\n",
        "implementation, losses and accuracies."
      ]
    },
    {
      "cell_type": "code",
      "execution_count": 1,
      "metadata": {
        "id": "wQOefmcZVgTl",
        "pycharm": {
          "is_executing": false
        },
        "colab": {
          "base_uri": "https://localhost:8080/"
        },
        "outputId": "05ff8163-be0a-431d-a844-ad676b4d61e2"
      },
      "outputs": [
        {
          "output_type": "stream",
          "name": "stdout",
          "text": [
            "Requirement already satisfied: torch in /usr/local/lib/python3.7/dist-packages (1.10.0+cu111)\n",
            "Requirement already satisfied: typing-extensions in /usr/local/lib/python3.7/dist-packages (from torch) (3.10.0.2)\n",
            "Requirement already satisfied: torchvision in /usr/local/lib/python3.7/dist-packages (0.11.1+cu111)\n",
            "Requirement already satisfied: torch==1.10.0 in /usr/local/lib/python3.7/dist-packages (from torchvision) (1.10.0+cu111)\n",
            "Requirement already satisfied: pillow!=8.3.0,>=5.3.0 in /usr/local/lib/python3.7/dist-packages (from torchvision) (7.1.2)\n",
            "Requirement already satisfied: numpy in /usr/local/lib/python3.7/dist-packages (from torchvision) (1.19.5)\n",
            "Requirement already satisfied: typing-extensions in /usr/local/lib/python3.7/dist-packages (from torch==1.10.0->torchvision) (3.10.0.2)\n",
            "Requirement already satisfied: tqdm in /usr/local/lib/python3.7/dist-packages (4.62.3)\n"
          ]
        }
      ],
      "source": [
        "!pip3 install torch\n",
        "!pip3 install torchvision\n",
        "!pip3 install tqdm\n",
        "\n",
        "import torch\n",
        "import torch.nn as nn\n",
        "import torch.nn.functional as F\n",
        "import torch.optim as optim\n",
        "from torch.utils.data import Dataset, DataLoader\n",
        "import numpy as np\n",
        "import matplotlib.pyplot as plt\n",
        "from torchvision import transforms, utils, datasets\n",
        "from tqdm import tqdm\n",
        "from torch.nn.parameter import Parameter\n",
        "import pdb\n",
        "import pandas as pd\n",
        "import torchvision\n",
        "import os\n",
        "import gzip\n",
        "import tarfile\n",
        "import gc\n",
        "from IPython.core.ultratb import AutoFormattedTB\n",
        "__ITB__ = AutoFormattedTB(mode = 'Verbose',color_scheme='LightBg', tb_offset = 1)\n",
        "\n",
        "assert torch.cuda.is_available(), \"You need to request a GPU from Runtime > Change Runtime\""
      ]
    },
    {
      "cell_type": "markdown",
      "metadata": {
        "id": "49quyvIJvTq8"
      },
      "source": [
        "WARNING: You may run into an error that says \"RuntimeError: \n",
        "\n",
        "---\n",
        "\n",
        "\n",
        "\n",
        "---\n",
        "\n",
        "CUDA out of memory.\"\n",
        "\n",
        "In this case, the memory required for your batch is larger than what the GPU is capable of. You can solve this problem by adjusting the image size or the batch size and then restarting the runtime. "
      ]
    },
    {
      "cell_type": "code",
      "execution_count": 2,
      "metadata": {
        "id": "Il_53HLSWPTY"
      },
      "outputs": [],
      "source": [
        "class CancerDataset(Dataset):\n",
        "  def __init__(self, root, download=True, size=512, train=True):\n",
        "    if download and not os.path.exists(os.path.join(root, 'cancer_data')):\n",
        "      datasets.utils.download_url('http://liftothers.org/cancer_data.tar.gz', root, 'cancer_data.tar.gz', None)\n",
        "      self.extract_gzip(os.path.join(root, 'cancer_data.tar.gz'))\n",
        "      self.extract_tar(os.path.join(root, 'cancer_data.tar'))\n",
        "    \n",
        "    postfix = 'train' if train else 'test'\n",
        "    root = os.path.join(root, 'cancer_data', 'cancer_data')\n",
        "    self.dataset_folder = torchvision.datasets.ImageFolder(os.path.join(root, 'inputs_' + postfix) ,transform = transforms.Compose([transforms.Resize(size),transforms.ToTensor()]))\n",
        "    self.label_folder = torchvision.datasets.ImageFolder(os.path.join(root, 'outputs_' + postfix) ,transform = transforms.Compose([transforms.Resize(size),transforms.ToTensor()]))\n",
        "\n",
        "  @staticmethod\n",
        "  def extract_gzip(gzip_path, remove_finished=False):\n",
        "    print('Extracting {}'.format(gzip_path))\n",
        "    with open(gzip_path.replace('.gz', ''), 'wb') as out_f, gzip.GzipFile(gzip_path) as zip_f:\n",
        "      out_f.write(zip_f.read())\n",
        "    if remove_finished:\n",
        "      os.unlink(gzip_path)\n",
        "  \n",
        "  @staticmethod\n",
        "  def extract_tar(tar_path):\n",
        "    print('Untarring {}'.format(tar_path))\n",
        "    z = tarfile.TarFile(tar_path)\n",
        "    z.extractall(tar_path.replace('.tar', ''))\n",
        "\n",
        "  def __getitem__(self,index):\n",
        "    img = self.dataset_folder[index]\n",
        "    label = self.label_folder[index]\n",
        "    return img[0],label[0][0]\n",
        "  \n",
        "  def __len__(self):\n",
        "    return len(self.dataset_folder)"
      ]
    },
    {
      "cell_type": "code",
      "source": [
        ""
      ],
      "metadata": {
        "id": "7c92l3gVhSte"
      },
      "execution_count": 2,
      "outputs": []
    },
    {
      "cell_type": "code",
      "execution_count": 3,
      "metadata": {
        "id": "XPgrP88aOtfy",
        "colab": {
          "base_uri": "https://localhost:8080/"
        },
        "outputId": "551b021d-0557-4fa3-d829-c3b8442cff26"
      },
      "outputs": [
        {
          "output_type": "stream",
          "name": "stdout",
          "text": [
            "torch.Size([1, 512, 32, 32])\n"
          ]
        }
      ],
      "source": [
        "# You'll probably want a function or something to test input / output sizes of the ConvTranspose2d layer\n",
        "c = nn.MaxPool2d(kernel_size=2,stride=2, padding=(0,0))\n",
        "#print(c(torch.zeros(1,64,280,280)).size())\n",
        "\n",
        "mod = nn.ConvTranspose2d(512, 256, kernel_size=2, stride=2, padding=0).cuda()\n",
        "print(c(torch.zeros(1,512,64,64)).size())\n",
        "\n",
        "\n"
      ]
    },
    {
      "cell_type": "code",
      "execution_count": 4,
      "metadata": {
        "id": "jq22IyKanxo_"
      },
      "outputs": [],
      "source": [
        "# Since you will be using the output of one network in two places(convolution and maxpooling),\n",
        "# you can't use nn.Sequential.\n",
        "# Instead you will write up the network like normal variable assignment as the example shown below:\n",
        "# You are welcome (and encouraged) to use the built-in batch normalization and dropout layer.\n",
        "\n",
        "# TODO: You need to change this to fit the UNet structure!!!\n",
        "class CancerDetection(nn.Module):\n",
        "  def __init__(self, dataset, out_dim=2):\n",
        "    super(CancerDetection, self).__init__()\n",
        "\n",
        "    x, y = dataset[0]\n",
        "    c, h, w = x.size()\n",
        "    in_dim = c*w*h\n",
        "\n",
        "\n",
        "\n",
        "    self.block1 = nn.Sequential(\n",
        "        nn.Conv2d(3, 64,kernel_size = 3, stride = 1, padding = (1,1)),\n",
        "        nn.ReLU(),\n",
        "        nn.Conv2d(64,64,kernel_size = 3, stride = 1, padding = (1,1)),\n",
        "        nn.ReLU()\n",
        "    )\n",
        "\n",
        "    self.blocksN = torch.nn.ModuleList()\n",
        "    self.blocksO1 = torch.nn.ModuleList()\n",
        "    self.blocksO2 = torch.nn.ModuleList() \n",
        "    self.finalLayer = nn.Conv2d(64,2, kernel_size=1, stride=1).cuda()\n",
        "    n = 64\n",
        "    for i in range(4):\n",
        "      block =  nn.Sequential(\n",
        "          nn.MaxPool2d(kernel_size=2, stride=2, padding=(0,0)),\n",
        "          nn.Conv2d(n,n*2,kernel_size = 3, stride = 1, padding = (1,1)),\n",
        "          nn.ReLU(),\n",
        "          nn.Conv2d(n*2,n*2,kernel_size = 3, stride = 1, padding = (1,1)),\n",
        "          nn.ReLU()\n",
        "      ).cuda()\n",
        "      n = n*2\n",
        "      self.blocksN.append(block)\n",
        "\n",
        " \n",
        "    for i in range(4):\n",
        "      n = n\n",
        "      n2 = int(n/2)\n",
        "      #print(n)\n",
        "    \n",
        "      mod = nn.ConvTranspose2d(n, n2, kernel_size=2, stride=2, padding=0).cuda()\n",
        "      self.blocksO1.append(mod)\n",
        "      \n",
        "\n",
        "      block =  nn.Sequential(\n",
        "          nn.Conv2d(n, n2,kernel_size = 3, stride = 1, padding = (1,1)),\n",
        "          nn.ReLU(),\n",
        "          nn.Conv2d(n2, n2,kernel_size = 3, stride = 1, padding = (1,1)),\n",
        "          nn.ReLU()\n",
        "          #nn.dropout()\n",
        "      ).cuda()\n",
        "      n = n2\n",
        "      self.blocksO2.append(block)\n",
        "\n",
        "  \n",
        "\n",
        "\n",
        " \n",
        "  def forward(self, input):\n",
        "    \n",
        "    ###going Down\n",
        "    block1_out = self.block1(input)\n",
        "    #print('block1', block1_out.shape)\n",
        "    block2_out = self.blocksN[0](block1_out)\n",
        "    #print('block2', block2_out.shape)\n",
        "\n",
        "    block3_out = self.blocksN[1](block2_out)\n",
        "    block4_out = self.blocksN[2](block3_out)\n",
        "    block5_out = self.blocksN[3](block4_out)\n",
        "    if False:\n",
        "      print(\"block\")\n",
        "      print(input.shape)\n",
        "      print(block1_out.shape)\n",
        "      print(block2_out.shape)\n",
        "      print(block3_out.shape)\n",
        "      print(block4_out.shape)\n",
        "      print(block5_out.shape)\n",
        "      print()\n",
        "\n",
        "    ###going up\n",
        "    block6_out = self.blocksO2[0](torch.cat((block4_out, self.blocksO1[0](block5_out)),dim=1))\n",
        "    #print('block6', block6_out.shape)\n",
        "    block7_out = self.blocksO2[1](torch.cat((block3_out, self.blocksO1[1](block6_out)),dim=1))\n",
        "    #print('block7', block7_out.shape)\n",
        "    block8_out = self.blocksO2[2](torch.cat((block2_out, self.blocksO1[2](block7_out)),dim=1))\n",
        "    block9_out = self.blocksO2[3](torch.cat((block1_out, self.blocksO1[3](block8_out)),dim=1))\n",
        "    block10_out = self.finalLayer(block9_out)\n",
        "    #print(block10_out.shape)\n",
        "    return block10_out\n"
      ]
    },
    {
      "cell_type": "code",
      "execution_count": 5,
      "metadata": {
        "id": "NAjagHCdGNAh"
      },
      "outputs": [],
      "source": [
        "# Create your datasets, dataloaders and neural network as you have before\n",
        "# Tip: Pass shuffle=True to constructor for training dataloader\n",
        "\n"
      ]
    },
    {
      "cell_type": "code",
      "source": [
        "###testing for understanding data stize\n",
        "###testing for understanding data stize\n",
        "import sys\n",
        "sys.tracebacklimit = 4\n"
      ],
      "metadata": {
        "id": "oLvHBCIvZMC5"
      },
      "execution_count": 6,
      "outputs": []
    },
    {
      "cell_type": "code",
      "source": [
        "\n",
        "dataLocation='/tmp/cancerset'\n",
        "# Initialize Datasets\n",
        "train_dataset = CancerDataset(dataLocation,train=True)# Initialize Datasets\n",
        "val_dataset = CancerDataset(dataLocation,train=False)\n",
        "\n",
        "# Initialize DataLoaders\n",
        "train_loader = DataLoader(train_dataset, batch_size=5, num_workers=2, pin_memory=True, shuffle =True)\n",
        "val_loader = DataLoader(val_dataset, num_workers=2, batch_size=5)\n",
        "\n"
      ],
      "metadata": {
        "id": "4_8wuBAodFCN",
        "colab": {
          "base_uri": "https://localhost:8080/",
          "height": 101,
          "referenced_widgets": [
            "2d7ec20676e94042be0cc8a038b06f17",
            "173a2ee227a64307b80063cba2569c45",
            "00761cd033984d46bdc7b57d316e7850",
            "90bccbb64fe14d919a50f684db3d4dde",
            "26643552e4954248a7691cfe1b41d74e",
            "b2d5fd2e7dfb4f0a8b22f04732a52068",
            "d82800d3fe364ce8b24b768933df6c96",
            "c8ca6c29a00b41dcbe49063cbd966e39",
            "77ab8aace1ba402fb07631f576a853a5",
            "a6f42d719aa34b4a8886697139dedb16",
            "e1990604f41e4c9180bed790a234ed09"
          ]
        },
        "outputId": "209cc11c-a0fc-4014-8f63-b5d63bc5da93"
      },
      "execution_count": 7,
      "outputs": [
        {
          "output_type": "stream",
          "name": "stdout",
          "text": [
            "Downloading http://liftothers.org/cancer_data.tar.gz to /tmp/cancerset/cancer_data.tar.gz\n"
          ]
        },
        {
          "output_type": "display_data",
          "data": {
            "application/vnd.jupyter.widget-view+json": {
              "model_id": "2d7ec20676e94042be0cc8a038b06f17",
              "version_minor": 0,
              "version_major": 2
            },
            "text/plain": [
              "  0%|          | 0/2750494655 [00:00<?, ?it/s]"
            ]
          },
          "metadata": {}
        },
        {
          "output_type": "stream",
          "name": "stdout",
          "text": [
            "Extracting /tmp/cancerset/cancer_data.tar.gz\n",
            "Untarring /tmp/cancerset/cancer_data.tar\n"
          ]
        }
      ]
    },
    {
      "cell_type": "code",
      "execution_count": 8,
      "metadata": {
        "id": "RkieTbwlYWPS",
        "colab": {
          "base_uri": "https://localhost:8080/"
        },
        "outputId": "33c87e59-0a6f-450a-9de9-100a64855cad"
      },
      "outputs": [
        {
          "output_type": "stream",
          "name": "stderr",
          "text": [
            "\r  0%|          | 0/1345 [00:00<?, ?it/s]"
          ]
        },
        {
          "output_type": "stream",
          "name": "stdout",
          "text": [
            "validating\n"
          ]
        },
        {
          "output_type": "stream",
          "name": "stderr",
          "text": [
            "epoch:0 batch:0 loss:0.7268 val_loss:0.7199:   0%|          | 1/1345 [00:59<22:08:40, 59.32s/it]"
          ]
        },
        {
          "output_type": "stream",
          "name": "stdout",
          "text": [
            "tensor(0.0017, device='cuda:0')\n"
          ]
        },
        {
          "output_type": "stream",
          "name": "stderr",
          "text": [
            "epoch:0 batch:199 loss:0.6013 val_loss:0.7199:  15%|█▍        | 200/1345 [13:19<1:10:49,  3.71s/it]"
          ]
        },
        {
          "output_type": "stream",
          "name": "stdout",
          "text": [
            "validating\n"
          ]
        },
        {
          "output_type": "stream",
          "name": "stderr",
          "text": [
            "epoch:0 batch:200 loss:0.2721 val_loss:0.3123:  15%|█▍        | 201/1345 [14:16<6:16:06, 19.73s/it]"
          ]
        },
        {
          "output_type": "stream",
          "name": "stdout",
          "text": [
            "tensor(0.9057, device='cuda:0')\n"
          ]
        },
        {
          "output_type": "stream",
          "name": "stderr",
          "text": [
            "epoch:0 batch:268 loss:0.3181 val_loss:0.3123:  20%|██        | 269/1345 [18:25<1:13:42,  4.11s/it]\n"
          ]
        },
        {
          "output_type": "stream",
          "name": "stdout",
          "text": [
            "validating\n",
            "tensor(0.9347, device='cuda:0')\n",
            "validating\n",
            "tensor(0.9641, device='cuda:0')\n",
            "validating\n",
            "tensor(0.8623, device='cuda:0')\n",
            "validating\n",
            "tensor(0.9895, device='cuda:0')\n",
            "validating\n",
            "tensor(0.8715, device='cuda:0')\n",
            "validating\n",
            "tensor(0.8297, device='cuda:0')\n",
            "validating\n",
            "tensor(0.9708, device='cuda:0')\n",
            "validating\n",
            "tensor(0.9221, device='cuda:0')\n"
          ]
        }
      ],
      "source": [
        "# This is what was talked about in the video for memory management\n",
        "test_models = []\n",
        "validations = []\n",
        "losses = []\n",
        "accuracy = []\n",
        "def scope():\n",
        "  try:\n",
        "    \n",
        "    #your code for calling dataset and dataloader\n",
        "    gc.collect()\n",
        "    #print(torch.cuda.memory_allocated() / 1e9)\n",
        "    \n",
        "\n",
        "    # Initialize Model\n",
        "\n",
        "    model = CancerDetection(train_dataset)\n",
        "    model = model.cuda()\n",
        "    # Initialize Objective and Optimizer and other parameters\n",
        "    optimizer = optim.Adam(params=model.parameters(), lr=1e-3)\n",
        "    objective = nn.CrossEntropyLoss()\n",
        "    cntr = 0\n",
        "\n",
        "\n",
        "    num_epochs = 5\n",
        "    loop = tqdm(total=len(train_loader) * num_epochs, position=0)\n",
        "    #for epochs:\n",
        "    # Call your model, figure out loss and accuracy\n",
        "\n",
        "    for epoch in range(num_epochs): \n",
        "      #print(epoch)\n",
        "      # train\n",
        "      #x1 = train_dataset[2][0].cuda()\n",
        "      for batch,(x, y_truth) in enumerate(train_loader):\n",
        "        #print(batch)\n",
        "        #learn\n",
        "        #.cuda()\n",
        "        x, y_truth = x.cuda(non_blocking=True), y_truth.cuda(non_blocking=True)\n",
        "        optimizer.zero_grad()\n",
        "        #print(x1 == x)\n",
        "        #x1 = x\n",
        "        \n",
        "        y_hat = model(x)\n",
        "\n",
        "        loss = objective(y_hat, y_truth.type(torch.LongTensor).cuda(non_blocking=True))\n",
        "\n",
        "        \n",
        "        \n",
        "        loss.backward()\n",
        "        \n",
        "        losses.append(loss.item())\n",
        "        if batch % 200 == 0:\n",
        "          print(\"validating\")\n",
        "          if True:\n",
        "            val = np.mean([objective(model(x.cuda(non_blocking=True)), y.type(torch.LongTensor).cuda(non_blocking=True)).item() for x,y in val_loader])\n",
        "            validations.append((len(losses), val))\n",
        "\n",
        "            a = (y_hat.argmax(1) == y_truth).float().mean()\n",
        "\n",
        "            accuracy.append((len(losses),a))\n",
        "            print(a)\n",
        "\n",
        "            cntr+=1 \n",
        "\n",
        "        loop.set_description('epoch:{} batch:{} loss:{:.4f} val_loss:{:.4f}'.format(epoch, batch,loss.item(), validations[-1][1]))\n",
        "        loop.update(1)\n",
        "        optimizer.step()\n",
        "\n",
        "\n",
        "      test_models.append(model)\n",
        "      loop.close()\n",
        "    torch.save(model.state_dict(), 'currentModel') \n",
        "  except Exception as e:\n",
        "    #print(e)\n",
        "    #__ITB__()\n",
        "    pass\n",
        "    \n",
        "scope()\n",
        "\n"
      ]
    },
    {
      "cell_type": "code",
      "source": [
        "\n",
        "\n",
        "t_np = np.array(validations) #convert to Numpy array\n",
        "df = pd.DataFrame(t_np) #convert to a dataframe\n",
        "df.to_csv(\"Validations\",index=False) #save to file\n",
        "\n",
        "anp = np.array(accuracy)\n",
        "df = pd.DataFrame(anp) #convert to a dataframe\n",
        "df.to_csv(\"Accuracy\",index=False) #save to file\n",
        "\n",
        "loss_numpy = np.array(losses)\n",
        "df = pd.DataFrame(loss_numpy) #convert to a dataframe\n",
        "df.to_csv(\"Losses\",index=False) #save to file\n",
        "\n",
        "\n"
      ],
      "metadata": {
        "id": "rh3HlPMmLcPk"
      },
      "execution_count": 14,
      "outputs": []
    },
    {
      "cell_type": "code",
      "source": [
        "# Go back up and try a few different networks and initialization strategies\n",
        "# Plot loss if you want\n",
        "# Plot accuracy\n",
        "\n",
        "a, b = zip(*validations)\n",
        "d, c = zip(*accuracy)\n",
        "plt.plot(losses, label='train')\n",
        "plt.legend()\n",
        "plt.show()\n",
        "plt.plot(a, b, label='val')\n",
        "plt.show()\n",
        "\n",
        "plt.title('accuracy')\n",
        "plt.plot(d,c,label=\"accuracy\")\n",
        "plt.show()"
      ],
      "metadata": {
        "id": "2Ev9CFJj6at5",
        "colab": {
          "base_uri": "https://localhost:8080/",
          "height": 761
        },
        "outputId": "8173fae0-9325-4da6-d822-1ddc36bf30c6"
      },
      "execution_count": 13,
      "outputs": [
        {
          "output_type": "display_data",
          "data": {
            "image/png": "[encoded data removed]",
            "text/plain": [
              "<Figure size 432x288 with 1 Axes>"
            ]
          },
          "metadata": {
            "needs_background": "light"
          }
        },
        {
          "output_type": "display_data",
          "data": {
            "image/png": "[encoded data removed]",
            "text/plain": [
              "<Figure size 432x288 with 1 Axes>"
            ]
          },
          "metadata": {
            "needs_background": "light"
          }
        },
        {
          "output_type": "display_data",
          "data": {
            "image/png": "[encoded data removed]",
            "text/plain": [
              "<Figure size 432x288 with 1 Axes>"
            ]
          },
          "metadata": {
            "needs_background": "light"
          }
        }
      ]
    },
    {
      "cell_type": "code",
      "source": [
        "test_models"
      ],
      "metadata": {
        "colab": {
          "base_uri": "https://localhost:8080/"
        },
        "id": "9wDhmQ_8zC7U",
        "outputId": "4849c71b-e479-49f0-83fa-b4ad30b16270"
      },
      "execution_count": 10,
      "outputs": [
        {
          "output_type": "execute_result",
          "data": {
            "text/plain": [
              "[CancerDetection(\n",
              "   (block1): Sequential(\n",
              "     (0): Conv2d(3, 64, kernel_size=(3, 3), stride=(1, 1), padding=(1, 1))\n",
              "     (1): ReLU()\n",
              "     (2): Conv2d(64, 64, kernel_size=(3, 3), stride=(1, 1), padding=(1, 1))\n",
              "     (3): ReLU()\n",
              "   )\n",
              "   (blocksN): ModuleList(\n",
              "     (0): Sequential(\n",
              "       (0): MaxPool2d(kernel_size=2, stride=2, padding=(0, 0), dilation=1, ceil_mode=False)\n",
              "       (1): Conv2d(64, 128, kernel_size=(3, 3), stride=(1, 1), padding=(1, 1))\n",
              "       (2): ReLU()\n",
              "       (3): Conv2d(128, 128, kernel_size=(3, 3), stride=(1, 1), padding=(1, 1))\n",
              "       (4): ReLU()\n",
              "     )\n",
              "     (1): Sequential(\n",
              "       (0): MaxPool2d(kernel_size=2, stride=2, padding=(0, 0), dilation=1, ceil_mode=False)\n",
              "       (1): Conv2d(128, 256, kernel_size=(3, 3), stride=(1, 1), padding=(1, 1))\n",
              "       (2): ReLU()\n",
              "       (3): Conv2d(256, 256, kernel_size=(3, 3), stride=(1, 1), padding=(1, 1))\n",
              "       (4): ReLU()\n",
              "     )\n",
              "     (2): Sequential(\n",
              "       (0): MaxPool2d(kernel_size=2, stride=2, padding=(0, 0), dilation=1, ceil_mode=False)\n",
              "       (1): Conv2d(256, 512, kernel_size=(3, 3), stride=(1, 1), padding=(1, 1))\n",
              "       (2): ReLU()\n",
              "       (3): Conv2d(512, 512, kernel_size=(3, 3), stride=(1, 1), padding=(1, 1))\n",
              "       (4): ReLU()\n",
              "     )\n",
              "     (3): Sequential(\n",
              "       (0): MaxPool2d(kernel_size=2, stride=2, padding=(0, 0), dilation=1, ceil_mode=False)\n",
              "       (1): Conv2d(512, 1024, kernel_size=(3, 3), stride=(1, 1), padding=(1, 1))\n",
              "       (2): ReLU()\n",
              "       (3): Conv2d(1024, 1024, kernel_size=(3, 3), stride=(1, 1), padding=(1, 1))\n",
              "       (4): ReLU()\n",
              "     )\n",
              "   )\n",
              "   (blocksO1): ModuleList(\n",
              "     (0): ConvTranspose2d(1024, 512, kernel_size=(2, 2), stride=(2, 2))\n",
              "     (1): ConvTranspose2d(512, 256, kernel_size=(2, 2), stride=(2, 2))\n",
              "     (2): ConvTranspose2d(256, 128, kernel_size=(2, 2), stride=(2, 2))\n",
              "     (3): ConvTranspose2d(128, 64, kernel_size=(2, 2), stride=(2, 2))\n",
              "   )\n",
              "   (blocksO2): ModuleList(\n",
              "     (0): Sequential(\n",
              "       (0): Conv2d(1024, 512, kernel_size=(3, 3), stride=(1, 1), padding=(1, 1))\n",
              "       (1): ReLU()\n",
              "       (2): Conv2d(512, 512, kernel_size=(3, 3), stride=(1, 1), padding=(1, 1))\n",
              "       (3): ReLU()\n",
              "     )\n",
              "     (1): Sequential(\n",
              "       (0): Conv2d(512, 256, kernel_size=(3, 3), stride=(1, 1), padding=(1, 1))\n",
              "       (1): ReLU()\n",
              "       (2): Conv2d(256, 256, kernel_size=(3, 3), stride=(1, 1), padding=(1, 1))\n",
              "       (3): ReLU()\n",
              "     )\n",
              "     (2): Sequential(\n",
              "       (0): Conv2d(256, 128, kernel_size=(3, 3), stride=(1, 1), padding=(1, 1))\n",
              "       (1): ReLU()\n",
              "       (2): Conv2d(128, 128, kernel_size=(3, 3), stride=(1, 1), padding=(1, 1))\n",
              "       (3): ReLU()\n",
              "     )\n",
              "     (3): Sequential(\n",
              "       (0): Conv2d(128, 64, kernel_size=(3, 3), stride=(1, 1), padding=(1, 1))\n",
              "       (1): ReLU()\n",
              "       (2): Conv2d(64, 64, kernel_size=(3, 3), stride=(1, 1), padding=(1, 1))\n",
              "       (3): ReLU()\n",
              "     )\n",
              "   )\n",
              "   (finalLayer): Conv2d(64, 2, kernel_size=(1, 1), stride=(1, 1))\n",
              " ), CancerDetection(\n",
              "   (block1): Sequential(\n",
              "     (0): Conv2d(3, 64, kernel_size=(3, 3), stride=(1, 1), padding=(1, 1))\n",
              "     (1): ReLU()\n",
              "     (2): Conv2d(64, 64, kernel_size=(3, 3), stride=(1, 1), padding=(1, 1))\n",
              "     (3): ReLU()\n",
              "   )\n",
              "   (blocksN): ModuleList(\n",
              "     (0): Sequential(\n",
              "       (0): MaxPool2d(kernel_size=2, stride=2, padding=(0, 0), dilation=1, ceil_mode=False)\n",
              "       (1): Conv2d(64, 128, kernel_size=(3, 3), stride=(1, 1), padding=(1, 1))\n",
              "       (2): ReLU()\n",
              "       (3): Conv2d(128, 128, kernel_size=(3, 3), stride=(1, 1), padding=(1, 1))\n",
              "       (4): ReLU()\n",
              "     )\n",
              "     (1): Sequential(\n",
              "       (0): MaxPool2d(kernel_size=2, stride=2, padding=(0, 0), dilation=1, ceil_mode=False)\n",
              "       (1): Conv2d(128, 256, kernel_size=(3, 3), stride=(1, 1), padding=(1, 1))\n",
              "       (2): ReLU()\n",
              "       (3): Conv2d(256, 256, kernel_size=(3, 3), stride=(1, 1), padding=(1, 1))\n",
              "       (4): ReLU()\n",
              "     )\n",
              "     (2): Sequential(\n",
              "       (0): MaxPool2d(kernel_size=2, stride=2, padding=(0, 0), dilation=1, ceil_mode=False)\n",
              "       (1): Conv2d(256, 512, kernel_size=(3, 3), stride=(1, 1), padding=(1, 1))\n",
              "       (2): ReLU()\n",
              "       (3): Conv2d(512, 512, kernel_size=(3, 3), stride=(1, 1), padding=(1, 1))\n",
              "       (4): ReLU()\n",
              "     )\n",
              "     (3): Sequential(\n",
              "       (0): MaxPool2d(kernel_size=2, stride=2, padding=(0, 0), dilation=1, ceil_mode=False)\n",
              "       (1): Conv2d(512, 1024, kernel_size=(3, 3), stride=(1, 1), padding=(1, 1))\n",
              "       (2): ReLU()\n",
              "       (3): Conv2d(1024, 1024, kernel_size=(3, 3), stride=(1, 1), padding=(1, 1))\n",
              "       (4): ReLU()\n",
              "     )\n",
              "   )\n",
              "   (blocksO1): ModuleList(\n",
              "     (0): ConvTranspose2d(1024, 512, kernel_size=(2, 2), stride=(2, 2))\n",
              "     (1): ConvTranspose2d(512, 256, kernel_size=(2, 2), stride=(2, 2))\n",
              "     (2): ConvTranspose2d(256, 128, kernel_size=(2, 2), stride=(2, 2))\n",
              "     (3): ConvTranspose2d(128, 64, kernel_size=(2, 2), stride=(2, 2))\n",
              "   )\n",
              "   (blocksO2): ModuleList(\n",
              "     (0): Sequential(\n",
              "       (0): Conv2d(1024, 512, kernel_size=(3, 3), stride=(1, 1), padding=(1, 1))\n",
              "       (1): ReLU()\n",
              "       (2): Conv2d(512, 512, kernel_size=(3, 3), stride=(1, 1), padding=(1, 1))\n",
              "       (3): ReLU()\n",
              "     )\n",
              "     (1): Sequential(\n",
              "       (0): Conv2d(512, 256, kernel_size=(3, 3), stride=(1, 1), padding=(1, 1))\n",
              "       (1): ReLU()\n",
              "       (2): Conv2d(256, 256, kernel_size=(3, 3), stride=(1, 1), padding=(1, 1))\n",
              "       (3): ReLU()\n",
              "     )\n",
              "     (2): Sequential(\n",
              "       (0): Conv2d(256, 128, kernel_size=(3, 3), stride=(1, 1), padding=(1, 1))\n",
              "       (1): ReLU()\n",
              "       (2): Conv2d(128, 128, kernel_size=(3, 3), stride=(1, 1), padding=(1, 1))\n",
              "       (3): ReLU()\n",
              "     )\n",
              "     (3): Sequential(\n",
              "       (0): Conv2d(128, 64, kernel_size=(3, 3), stride=(1, 1), padding=(1, 1))\n",
              "       (1): ReLU()\n",
              "       (2): Conv2d(64, 64, kernel_size=(3, 3), stride=(1, 1), padding=(1, 1))\n",
              "       (3): ReLU()\n",
              "     )\n",
              "   )\n",
              "   (finalLayer): Conv2d(64, 2, kernel_size=(1, 1), stride=(1, 1))\n",
              " ), CancerDetection(\n",
              "   (block1): Sequential(\n",
              "     (0): Conv2d(3, 64, kernel_size=(3, 3), stride=(1, 1), padding=(1, 1))\n",
              "     (1): ReLU()\n",
              "     (2): Conv2d(64, 64, kernel_size=(3, 3), stride=(1, 1), padding=(1, 1))\n",
              "     (3): ReLU()\n",
              "   )\n",
              "   (blocksN): ModuleList(\n",
              "     (0): Sequential(\n",
              "       (0): MaxPool2d(kernel_size=2, stride=2, padding=(0, 0), dilation=1, ceil_mode=False)\n",
              "       (1): Conv2d(64, 128, kernel_size=(3, 3), stride=(1, 1), padding=(1, 1))\n",
              "       (2): ReLU()\n",
              "       (3): Conv2d(128, 128, kernel_size=(3, 3), stride=(1, 1), padding=(1, 1))\n",
              "       (4): ReLU()\n",
              "     )\n",
              "     (1): Sequential(\n",
              "       (0): MaxPool2d(kernel_size=2, stride=2, padding=(0, 0), dilation=1, ceil_mode=False)\n",
              "       (1): Conv2d(128, 256, kernel_size=(3, 3), stride=(1, 1), padding=(1, 1))\n",
              "       (2): ReLU()\n",
              "       (3): Conv2d(256, 256, kernel_size=(3, 3), stride=(1, 1), padding=(1, 1))\n",
              "       (4): ReLU()\n",
              "     )\n",
              "     (2): Sequential(\n",
              "       (0): MaxPool2d(kernel_size=2, stride=2, padding=(0, 0), dilation=1, ceil_mode=False)\n",
              "       (1): Conv2d(256, 512, kernel_size=(3, 3), stride=(1, 1), padding=(1, 1))\n",
              "       (2): ReLU()\n",
              "       (3): Conv2d(512, 512, kernel_size=(3, 3), stride=(1, 1), padding=(1, 1))\n",
              "       (4): ReLU()\n",
              "     )\n",
              "     (3): Sequential(\n",
              "       (0): MaxPool2d(kernel_size=2, stride=2, padding=(0, 0), dilation=1, ceil_mode=False)\n",
              "       (1): Conv2d(512, 1024, kernel_size=(3, 3), stride=(1, 1), padding=(1, 1))\n",
              "       (2): ReLU()\n",
              "       (3): Conv2d(1024, 1024, kernel_size=(3, 3), stride=(1, 1), padding=(1, 1))\n",
              "       (4): ReLU()\n",
              "     )\n",
              "   )\n",
              "   (blocksO1): ModuleList(\n",
              "     (0): ConvTranspose2d(1024, 512, kernel_size=(2, 2), stride=(2, 2))\n",
              "     (1): ConvTranspose2d(512, 256, kernel_size=(2, 2), stride=(2, 2))\n",
              "     (2): ConvTranspose2d(256, 128, kernel_size=(2, 2), stride=(2, 2))\n",
              "     (3): ConvTranspose2d(128, 64, kernel_size=(2, 2), stride=(2, 2))\n",
              "   )\n",
              "   (blocksO2): ModuleList(\n",
              "     (0): Sequential(\n",
              "       (0): Conv2d(1024, 512, kernel_size=(3, 3), stride=(1, 1), padding=(1, 1))\n",
              "       (1): ReLU()\n",
              "       (2): Conv2d(512, 512, kernel_size=(3, 3), stride=(1, 1), padding=(1, 1))\n",
              "       (3): ReLU()\n",
              "     )\n",
              "     (1): Sequential(\n",
              "       (0): Conv2d(512, 256, kernel_size=(3, 3), stride=(1, 1), padding=(1, 1))\n",
              "       (1): ReLU()\n",
              "       (2): Conv2d(256, 256, kernel_size=(3, 3), stride=(1, 1), padding=(1, 1))\n",
              "       (3): ReLU()\n",
              "     )\n",
              "     (2): Sequential(\n",
              "       (0): Conv2d(256, 128, kernel_size=(3, 3), stride=(1, 1), padding=(1, 1))\n",
              "       (1): ReLU()\n",
              "       (2): Conv2d(128, 128, kernel_size=(3, 3), stride=(1, 1), padding=(1, 1))\n",
              "       (3): ReLU()\n",
              "     )\n",
              "     (3): Sequential(\n",
              "       (0): Conv2d(128, 64, kernel_size=(3, 3), stride=(1, 1), padding=(1, 1))\n",
              "       (1): ReLU()\n",
              "       (2): Conv2d(64, 64, kernel_size=(3, 3), stride=(1, 1), padding=(1, 1))\n",
              "       (3): ReLU()\n",
              "     )\n",
              "   )\n",
              "   (finalLayer): Conv2d(64, 2, kernel_size=(1, 1), stride=(1, 1))\n",
              " ), CancerDetection(\n",
              "   (block1): Sequential(\n",
              "     (0): Conv2d(3, 64, kernel_size=(3, 3), stride=(1, 1), padding=(1, 1))\n",
              "     (1): ReLU()\n",
              "     (2): Conv2d(64, 64, kernel_size=(3, 3), stride=(1, 1), padding=(1, 1))\n",
              "     (3): ReLU()\n",
              "   )\n",
              "   (blocksN): ModuleList(\n",
              "     (0): Sequential(\n",
              "       (0): MaxPool2d(kernel_size=2, stride=2, padding=(0, 0), dilation=1, ceil_mode=False)\n",
              "       (1): Conv2d(64, 128, kernel_size=(3, 3), stride=(1, 1), padding=(1, 1))\n",
              "       (2): ReLU()\n",
              "       (3): Conv2d(128, 128, kernel_size=(3, 3), stride=(1, 1), padding=(1, 1))\n",
              "       (4): ReLU()\n",
              "     )\n",
              "     (1): Sequential(\n",
              "       (0): MaxPool2d(kernel_size=2, stride=2, padding=(0, 0), dilation=1, ceil_mode=False)\n",
              "       (1): Conv2d(128, 256, kernel_size=(3, 3), stride=(1, 1), padding=(1, 1))\n",
              "       (2): ReLU()\n",
              "       (3): Conv2d(256, 256, kernel_size=(3, 3), stride=(1, 1), padding=(1, 1))\n",
              "       (4): ReLU()\n",
              "     )\n",
              "     (2): Sequential(\n",
              "       (0): MaxPool2d(kernel_size=2, stride=2, padding=(0, 0), dilation=1, ceil_mode=False)\n",
              "       (1): Conv2d(256, 512, kernel_size=(3, 3), stride=(1, 1), padding=(1, 1))\n",
              "       (2): ReLU()\n",
              "       (3): Conv2d(512, 512, kernel_size=(3, 3), stride=(1, 1), padding=(1, 1))\n",
              "       (4): ReLU()\n",
              "     )\n",
              "     (3): Sequential(\n",
              "       (0): MaxPool2d(kernel_size=2, stride=2, padding=(0, 0), dilation=1, ceil_mode=False)\n",
              "       (1): Conv2d(512, 1024, kernel_size=(3, 3), stride=(1, 1), padding=(1, 1))\n",
              "       (2): ReLU()\n",
              "       (3): Conv2d(1024, 1024, kernel_size=(3, 3), stride=(1, 1), padding=(1, 1))\n",
              "       (4): ReLU()\n",
              "     )\n",
              "   )\n",
              "   (blocksO1): ModuleList(\n",
              "     (0): ConvTranspose2d(1024, 512, kernel_size=(2, 2), stride=(2, 2))\n",
              "     (1): ConvTranspose2d(512, 256, kernel_size=(2, 2), stride=(2, 2))\n",
              "     (2): ConvTranspose2d(256, 128, kernel_size=(2, 2), stride=(2, 2))\n",
              "     (3): ConvTranspose2d(128, 64, kernel_size=(2, 2), stride=(2, 2))\n",
              "   )\n",
              "   (blocksO2): ModuleList(\n",
              "     (0): Sequential(\n",
              "       (0): Conv2d(1024, 512, kernel_size=(3, 3), stride=(1, 1), padding=(1, 1))\n",
              "       (1): ReLU()\n",
              "       (2): Conv2d(512, 512, kernel_size=(3, 3), stride=(1, 1), padding=(1, 1))\n",
              "       (3): ReLU()\n",
              "     )\n",
              "     (1): Sequential(\n",
              "       (0): Conv2d(512, 256, kernel_size=(3, 3), stride=(1, 1), padding=(1, 1))\n",
              "       (1): ReLU()\n",
              "       (2): Conv2d(256, 256, kernel_size=(3, 3), stride=(1, 1), padding=(1, 1))\n",
              "       (3): ReLU()\n",
              "     )\n",
              "     (2): Sequential(\n",
              "       (0): Conv2d(256, 128, kernel_size=(3, 3), stride=(1, 1), padding=(1, 1))\n",
              "       (1): ReLU()\n",
              "       (2): Conv2d(128, 128, kernel_size=(3, 3), stride=(1, 1), padding=(1, 1))\n",
              "       (3): ReLU()\n",
              "     )\n",
              "     (3): Sequential(\n",
              "       (0): Conv2d(128, 64, kernel_size=(3, 3), stride=(1, 1), padding=(1, 1))\n",
              "       (1): ReLU()\n",
              "       (2): Conv2d(64, 64, kernel_size=(3, 3), stride=(1, 1), padding=(1, 1))\n",
              "       (3): ReLU()\n",
              "     )\n",
              "   )\n",
              "   (finalLayer): Conv2d(64, 2, kernel_size=(1, 1), stride=(1, 1))\n",
              " ), CancerDetection(\n",
              "   (block1): Sequential(\n",
              "     (0): Conv2d(3, 64, kernel_size=(3, 3), stride=(1, 1), padding=(1, 1))\n",
              "     (1): ReLU()\n",
              "     (2): Conv2d(64, 64, kernel_size=(3, 3), stride=(1, 1), padding=(1, 1))\n",
              "     (3): ReLU()\n",
              "   )\n",
              "   (blocksN): ModuleList(\n",
              "     (0): Sequential(\n",
              "       (0): MaxPool2d(kernel_size=2, stride=2, padding=(0, 0), dilation=1, ceil_mode=False)\n",
              "       (1): Conv2d(64, 128, kernel_size=(3, 3), stride=(1, 1), padding=(1, 1))\n",
              "       (2): ReLU()\n",
              "       (3): Conv2d(128, 128, kernel_size=(3, 3), stride=(1, 1), padding=(1, 1))\n",
              "       (4): ReLU()\n",
              "     )\n",
              "     (1): Sequential(\n",
              "       (0): MaxPool2d(kernel_size=2, stride=2, padding=(0, 0), dilation=1, ceil_mode=False)\n",
              "       (1): Conv2d(128, 256, kernel_size=(3, 3), stride=(1, 1), padding=(1, 1))\n",
              "       (2): ReLU()\n",
              "       (3): Conv2d(256, 256, kernel_size=(3, 3), stride=(1, 1), padding=(1, 1))\n",
              "       (4): ReLU()\n",
              "     )\n",
              "     (2): Sequential(\n",
              "       (0): MaxPool2d(kernel_size=2, stride=2, padding=(0, 0), dilation=1, ceil_mode=False)\n",
              "       (1): Conv2d(256, 512, kernel_size=(3, 3), stride=(1, 1), padding=(1, 1))\n",
              "       (2): ReLU()\n",
              "       (3): Conv2d(512, 512, kernel_size=(3, 3), stride=(1, 1), padding=(1, 1))\n",
              "       (4): ReLU()\n",
              "     )\n",
              "     (3): Sequential(\n",
              "       (0): MaxPool2d(kernel_size=2, stride=2, padding=(0, 0), dilation=1, ceil_mode=False)\n",
              "       (1): Conv2d(512, 1024, kernel_size=(3, 3), stride=(1, 1), padding=(1, 1))\n",
              "       (2): ReLU()\n",
              "       (3): Conv2d(1024, 1024, kernel_size=(3, 3), stride=(1, 1), padding=(1, 1))\n",
              "       (4): ReLU()\n",
              "     )\n",
              "   )\n",
              "   (blocksO1): ModuleList(\n",
              "     (0): ConvTranspose2d(1024, 512, kernel_size=(2, 2), stride=(2, 2))\n",
              "     (1): ConvTranspose2d(512, 256, kernel_size=(2, 2), stride=(2, 2))\n",
              "     (2): ConvTranspose2d(256, 128, kernel_size=(2, 2), stride=(2, 2))\n",
              "     (3): ConvTranspose2d(128, 64, kernel_size=(2, 2), stride=(2, 2))\n",
              "   )\n",
              "   (blocksO2): ModuleList(\n",
              "     (0): Sequential(\n",
              "       (0): Conv2d(1024, 512, kernel_size=(3, 3), stride=(1, 1), padding=(1, 1))\n",
              "       (1): ReLU()\n",
              "       (2): Conv2d(512, 512, kernel_size=(3, 3), stride=(1, 1), padding=(1, 1))\n",
              "       (3): ReLU()\n",
              "     )\n",
              "     (1): Sequential(\n",
              "       (0): Conv2d(512, 256, kernel_size=(3, 3), stride=(1, 1), padding=(1, 1))\n",
              "       (1): ReLU()\n",
              "       (2): Conv2d(256, 256, kernel_size=(3, 3), stride=(1, 1), padding=(1, 1))\n",
              "       (3): ReLU()\n",
              "     )\n",
              "     (2): Sequential(\n",
              "       (0): Conv2d(256, 128, kernel_size=(3, 3), stride=(1, 1), padding=(1, 1))\n",
              "       (1): ReLU()\n",
              "       (2): Conv2d(128, 128, kernel_size=(3, 3), stride=(1, 1), padding=(1, 1))\n",
              "       (3): ReLU()\n",
              "     )\n",
              "     (3): Sequential(\n",
              "       (0): Conv2d(128, 64, kernel_size=(3, 3), stride=(1, 1), padding=(1, 1))\n",
              "       (1): ReLU()\n",
              "       (2): Conv2d(64, 64, kernel_size=(3, 3), stride=(1, 1), padding=(1, 1))\n",
              "       (3): ReLU()\n",
              "     )\n",
              "   )\n",
              "   (finalLayer): Conv2d(64, 2, kernel_size=(1, 1), stride=(1, 1))\n",
              " )]"
            ]
          },
          "metadata": {},
          "execution_count": 10
        }
      ]
    },
    {
      "cell_type": "markdown",
      "metadata": {
        "id": "CZ062Jv1jIIu"
      },
      "source": [
        "\n",
        "___\n",
        "\n",
        "### Part 2\n",
        "\n",
        "Plot performance over time\n",
        "\n",
        "Please generate two plots:\n",
        "\n",
        " One that shows loss on the training and validation set as a function of training time. \n",
        "\n",
        " One that shows accuracy on the training and validation set as a function of training time. \n",
        "\n",
        " Make sure your axes are labeled!\n",
        "\n",
        "**TODO:**\n",
        "\n",
        "* Plot training/validation loss as function of training time (not epochs)\n",
        "* Plot training/validation accuracy as function of training time (not epochs)\n",
        "\n",
        "**DONE:**\n",
        "\n"
      ]
    },
    {
      "cell_type": "code",
      "execution_count": 11,
      "metadata": {
        "id": "mTg1jyIsYVZN"
      },
      "outputs": [],
      "source": [
        "# Your plotting code here\n",
        "\n",
        "\n"
      ]
    },
    {
      "cell_type": "markdown",
      "metadata": {
        "nteract": {
          "transient": {
            "deleting": false
          }
        },
        "id": "F3n6Gi_Cemyw"
      },
      "source": [
        "**NOTE:**\n",
        "\n",
        "Guessing that the pixel is not cancerous every single time will give you an accuracy of ~ 85%.\n",
        "Your trained network should be able to do better than that (but you will not be graded on accuracy).\n",
        "This is the result I got after 1 hour or training.\n",
        "\n",
        "![](http://liftothers.org/dokuwiki/lib/exe/fetch.php?w=400&tok=d23e0b&media=cs501r_f2016:training_accuracy.png)\n",
        "![](http://liftothers.org/dokuwiki/lib/exe/fetch.php?w=400&tok=bb8e3c&media=cs501r_f2016:training_loss.png)"
      ]
    },
    {
      "cell_type": "markdown",
      "metadata": {
        "id": "S4s92S2_jQOG"
      },
      "source": [
        "___\n",
        "\n",
        "### Part 3\n",
        "\n",
        "Generate at least 5 predictions on the pos_test_000072.png image and display them as images. These predictions should be made at a reasonable interval (e.g. every epoch). \n",
        "\n",
        "To do this, calculate the output of your trained network on the pos_test_000072.png image,\n",
        "then make a hard decision (cancerous/not-cancerous) for each pixel.\n",
        "The resulting image should be black-and-white, where white pixels represent things\n",
        "you think are probably cancerous.\n",
        "\n",
        "**TODO:**\n",
        "\n",
        "**DONE:**\n",
        "\n"
      ]
    },
    {
      "cell_type": "code",
      "source": [
        ""
      ],
      "metadata": {
        "id": "oyYmdN-2Ambh"
      },
      "execution_count": 11,
      "outputs": []
    },
    {
      "cell_type": "code",
      "source": [
        ""
      ],
      "metadata": {
        "id": "4Ml_TR9XkyHD"
      },
      "execution_count": 11,
      "outputs": []
    },
    {
      "cell_type": "code",
      "source": [
        ""
      ],
      "metadata": {
        "id": "kA1TkgLclhg4",
        "colab": {
          "base_uri": "https://localhost:8080/",
          "height": 165
        },
        "outputId": "9abd1e73-699f-4d75-c7b1-89696482ed28"
      },
      "execution_count": 12,
      "outputs": [
        {
          "output_type": "error",
          "ename": "NameError",
          "evalue": "ignored",
          "traceback": [
            "\u001b[0;31m---------------------------------------------------------------------------\u001b[0m",
            "\u001b[0;31mNameError\u001b[0m                                 Traceback (most recent call last)",
            "\u001b[0;32m<ipython-input-12-b483e4dda31f>\u001b[0m in \u001b[0;36m<module>\u001b[0;34m()\u001b[0m\n\u001b[0;32m----> 1\u001b[0;31m \u001b[0mprint\u001b[0m\u001b[0;34m(\u001b[0m\u001b[0mlen\u001b[0m\u001b[0;34m(\u001b[0m\u001b[0mx\u001b[0m\u001b[0;34m)\u001b[0m\u001b[0;34m)\u001b[0m\u001b[0;34m\u001b[0m\u001b[0;34m\u001b[0m\u001b[0m\n\u001b[0m",
            "\u001b[0;31mNameError\u001b[0m: name 'x' is not defined"
          ]
        }
      ]
    },
    {
      "cell_type": "code",
      "execution_count": 15,
      "metadata": {
        "id": "XXfG3wClh8an",
        "pycharm": {
          "is_executing": false
        },
        "colab": {
          "base_uri": "https://localhost:8080/",
          "height": 1000
        },
        "outputId": "36d52d82-eb2e-4e6e-ac3e-99922e7654be"
      },
      "outputs": [
        {
          "output_type": "display_data",
          "data": {
            "image/png": "[encoded data removed]",
            "text/plain": [
              "<Figure size 432x288 with 1 Axes>"
            ]
          },
          "metadata": {
            "needs_background": "light"
          }
        },
        {
          "output_type": "display_data",
          "data": {
            "image/png": "[encoded data removed]",
            "text/plain": [
              "<Figure size 432x288 with 1 Axes>"
            ]
          },
          "metadata": {
            "needs_background": "light"
          }
        },
        {
          "output_type": "display_data",
          "data": {
            "image/png": "[encoded data removed]",
            "text/plain": [
              "<Figure size 432x288 with 1 Axes>"
            ]
          },
          "metadata": {
            "needs_background": "light"
          }
        },
        {
          "output_type": "display_data",
          "data": {
            "image/png": "[encoded data removed]",
            "text/plain": [
              "<Figure size 432x288 with 1 Axes>"
            ]
          },
          "metadata": {
            "needs_background": "light"
          }
        },
        {
          "output_type": "display_data",
          "data": {
            "image/png": "[encoded data removed]",
            "text/plain": [
              "<Figure size 432x288 with 1 Axes>"
            ]
          },
          "metadata": {
            "needs_background": "light"
          }
        },
        {
          "output_type": "display_data",
          "data": {
            "image/png": "[encoded data removed]",
            "text/plain": [
              "<Figure size 432x288 with 1 Axes>"
            ]
          },
          "metadata": {
            "needs_background": "light"
          }
        }
      ],
      "source": [
        "# Code for testing prediction on an image\n",
        "from PIL import Image\n",
        "\n",
        "#print(x.shape)\n",
        "x = val_dataset[172][0]\n",
        "y = val_dataset[172][1]\n",
        "convert_tensor = transforms.ToTensor()\n",
        "# Show result\n",
        "\n",
        "#x = convert_tensor(x)\n",
        "for i, model in enumerate(test_models):\n",
        "  newPred = model(x.cuda().unsqueeze(0))\n",
        "  img = newPred.squeeze(0).cpu().detach().argmax(dim=0).numpy()\n",
        "\n",
        "  # Show result\n",
        "  plt.imshow(img, cmap='gray')\n",
        "  plt.title('Prediction ' + str(i))\n",
        "  plt.show()\n",
        "\n",
        "# Show result\n",
        "plt.imshow(y, cmap='gray')\n",
        "plt.title(f'true image')\n",
        "plt.show()\n",
        "\n",
        "\n"
      ]
    },
    {
      "cell_type": "code",
      "source": [
        "from google.colab import drive\n",
        "drive.mount('/content/drive')"
      ],
      "metadata": {
        "id": "qCXu18vSFirC"
      },
      "execution_count": null,
      "outputs": []
    },
    {
      "cell_type": "code",
      "source": [
        ""
      ],
      "metadata": {
        "id": "JVvOgS9R7Ipo"
      },
      "execution_count": null,
      "outputs": []
    }
  ],
  "metadata": {
    "accelerator": "GPU",
    "colab": {
      "collapsed_sections": [],
      "name": "lab4 (1).ipynb",
      "provenance": []
    },
    "kernelspec": {
      "display_name": "Python 3",
      "language": "python",
      "name": "python3"
    },
    "language_info": {
      "codemirror_mode": {
        "name": "ipython",
        "version": 3
      },
      "file_extension": ".py",
      "mimetype": "text/x-python",
      "name": "python",
      "nbconvert_exporter": "python",
      "pygments_lexer": "ipython3",
      "version": "3.7.1"
    },
    "nteract": {
      "version": "0.28.0"
    },
    "pycharm": {
      "stem_cell": {
        "cell_type": "raw",
        "metadata": {
          "collapsed": false
        },
        "source": []
      }
    },
    "widgets": {
      "application/vnd.jupyter.widget-state+json": {
        "2d7ec20676e94042be0cc8a038b06f17": {
          "model_module": "@jupyter-widgets/controls",
          "model_name": "HBoxModel",
          "model_module_version": "1.5.0",
          "state": {
            "_view_name": "HBoxView",
            "_dom_classes": [],
            "_model_name": "HBoxModel",
            "_view_module": "@jupyter-widgets/controls",
            "_model_module_version": "1.5.0",
            "_view_count": null,
            "_view_module_version": "1.5.0",
            "box_style": "",
            "layout": "IPY_MODEL_173a2ee227a64307b80063cba2569c45",
            "_model_module": "@jupyter-widgets/controls",
            "children": [
              "IPY_MODEL_00761cd033984d46bdc7b57d316e7850",
              "IPY_MODEL_90bccbb64fe14d919a50f684db3d4dde",
              "IPY_MODEL_26643552e4954248a7691cfe1b41d74e"
            ]
          }
        },
        "173a2ee227a64307b80063cba2569c45": {
          "model_module": "@jupyter-widgets/base",
          "model_name": "LayoutModel",
          "model_module_version": "1.2.0",
          "state": {
            "_view_name": "LayoutView",
            "grid_template_rows": null,
            "right": null,
            "justify_content": null,
            "_view_module": "@jupyter-widgets/base",
            "overflow": null,
            "_model_module_version": "1.2.0",
            "_view_count": null,
            "flex_flow": null,
            "width": null,
            "min_width": null,
            "border": null,
            "align_items": null,
            "bottom": null,
            "_model_module": "@jupyter-widgets/base",
            "top": null,
            "grid_column": null,
            "overflow_y": null,
            "overflow_x": null,
            "grid_auto_flow": null,
            "grid_area": null,
            "grid_template_columns": null,
            "flex": null,
            "_model_name": "LayoutModel",
            "justify_items": null,
            "grid_row": null,
            "max_height": null,
            "align_content": null,
            "visibility": null,
            "align_self": null,
            "height": null,
            "min_height": null,
            "padding": null,
            "grid_auto_rows": null,
            "grid_gap": null,
            "max_width": null,
            "order": null,
            "_view_module_version": "1.2.0",
            "grid_template_areas": null,
            "object_position": null,
            "object_fit": null,
            "grid_auto_columns": null,
            "margin": null,
            "display": null,
            "left": null
          }
        },
        "00761cd033984d46bdc7b57d316e7850": {
          "model_module": "@jupyter-widgets/controls",
          "model_name": "HTMLModel",
          "model_module_version": "1.5.0",
          "state": {
            "_view_name": "HTMLView",
            "style": "IPY_MODEL_b2d5fd2e7dfb4f0a8b22f04732a52068",
            "_dom_classes": [],
            "description": "",
            "_model_name": "HTMLModel",
            "placeholder": "​",
            "_view_module": "@jupyter-widgets/controls",
            "_model_module_version": "1.5.0",
            "value": "",
            "_view_count": null,
            "_view_module_version": "1.5.0",
            "description_tooltip": null,
            "_model_module": "@jupyter-widgets/controls",
            "layout": "IPY_MODEL_d82800d3fe364ce8b24b768933df6c96"
          }
        },
        "90bccbb64fe14d919a50f684db3d4dde": {
          "model_module": "@jupyter-widgets/controls",
          "model_name": "FloatProgressModel",
          "model_module_version": "1.5.0",
          "state": {
            "_view_name": "ProgressView",
            "style": "IPY_MODEL_c8ca6c29a00b41dcbe49063cbd966e39",
            "_dom_classes": [],
            "description": "",
            "_model_name": "FloatProgressModel",
            "bar_style": "success",
            "max": 2750494655,
            "_view_module": "@jupyter-widgets/controls",
            "_model_module_version": "1.5.0",
            "value": 2750494655,
            "_view_count": null,
            "_view_module_version": "1.5.0",
            "orientation": "horizontal",
            "min": 0,
            "description_tooltip": null,
            "_model_module": "@jupyter-widgets/controls",
            "layout": "IPY_MODEL_77ab8aace1ba402fb07631f576a853a5"
          }
        },
        "26643552e4954248a7691cfe1b41d74e": {
          "model_module": "@jupyter-widgets/controls",
          "model_name": "HTMLModel",
          "model_module_version": "1.5.0",
          "state": {
            "_view_name": "HTMLView",
            "style": "IPY_MODEL_a6f42d719aa34b4a8886697139dedb16",
            "_dom_classes": [],
            "description": "",
            "_model_name": "HTMLModel",
            "placeholder": "​",
            "_view_module": "@jupyter-widgets/controls",
            "_model_module_version": "1.5.0",
            "value": " 2750494720/? [01:25&lt;00:00, 34568699.16it/s]",
            "_view_count": null,
            "_view_module_version": "1.5.0",
            "description_tooltip": null,
            "_model_module": "@jupyter-widgets/controls",
            "layout": "IPY_MODEL_e1990604f41e4c9180bed790a234ed09"
          }
        },
        "b2d5fd2e7dfb4f0a8b22f04732a52068": {
          "model_module": "@jupyter-widgets/controls",
          "model_name": "DescriptionStyleModel",
          "model_module_version": "1.5.0",
          "state": {
            "_view_name": "StyleView",
            "_model_name": "DescriptionStyleModel",
            "description_width": "",
            "_view_module": "@jupyter-widgets/base",
            "_model_module_version": "1.5.0",
            "_view_count": null,
            "_view_module_version": "1.2.0",
            "_model_module": "@jupyter-widgets/controls"
          }
        },
        "d82800d3fe364ce8b24b768933df6c96": {
          "model_module": "@jupyter-widgets/base",
          "model_name": "LayoutModel",
          "model_module_version": "1.2.0",
          "state": {
            "_view_name": "LayoutView",
            "grid_template_rows": null,
            "right": null,
            "justify_content": null,
            "_view_module": "@jupyter-widgets/base",
            "overflow": null,
            "_model_module_version": "1.2.0",
            "_view_count": null,
            "flex_flow": null,
            "width": null,
            "min_width": null,
            "border": null,
            "align_items": null,
            "bottom": null,
            "_model_module": "@jupyter-widgets/base",
            "top": null,
            "grid_column": null,
            "overflow_y": null,
            "overflow_x": null,
            "grid_auto_flow": null,
            "grid_area": null,
            "grid_template_columns": null,
            "flex": null,
            "_model_name": "LayoutModel",
            "justify_items": null,
            "grid_row": null,
            "max_height": null,
            "align_content": null,
            "visibility": null,
            "align_self": null,
            "height": null,
            "min_height": null,
            "padding": null,
            "grid_auto_rows": null,
            "grid_gap": null,
            "max_width": null,
            "order": null,
            "_view_module_version": "1.2.0",
            "grid_template_areas": null,
            "object_position": null,
            "object_fit": null,
            "grid_auto_columns": null,
            "margin": null,
            "display": null,
            "left": null
          }
        },
        "c8ca6c29a00b41dcbe49063cbd966e39": {
          "model_module": "@jupyter-widgets/controls",
          "model_name": "ProgressStyleModel",
          "model_module_version": "1.5.0",
          "state": {
            "_view_name": "StyleView",
            "_model_name": "ProgressStyleModel",
            "description_width": "",
            "_view_module": "@jupyter-widgets/base",
            "_model_module_version": "1.5.0",
            "_view_count": null,
            "_view_module_version": "1.2.0",
            "bar_color": null,
            "_model_module": "@jupyter-widgets/controls"
          }
        },
        "77ab8aace1ba402fb07631f576a853a5": {
          "model_module": "@jupyter-widgets/base",
          "model_name": "LayoutModel",
          "model_module_version": "1.2.0",
          "state": {
            "_view_name": "LayoutView",
            "grid_template_rows": null,
            "right": null,
            "justify_content": null,
            "_view_module": "@jupyter-widgets/base",
            "overflow": null,
            "_model_module_version": "1.2.0",
            "_view_count": null,
            "flex_flow": null,
            "width": null,
            "min_width": null,
            "border": null,
            "align_items": null,
            "bottom": null,
            "_model_module": "@jupyter-widgets/base",
            "top": null,
            "grid_column": null,
            "overflow_y": null,
            "overflow_x": null,
            "grid_auto_flow": null,
            "grid_area": null,
            "grid_template_columns": null,
            "flex": null,
            "_model_name": "LayoutModel",
            "justify_items": null,
            "grid_row": null,
            "max_height": null,
            "align_content": null,
            "visibility": null,
            "align_self": null,
            "height": null,
            "min_height": null,
            "padding": null,
            "grid_auto_rows": null,
            "grid_gap": null,
            "max_width": null,
            "order": null,
            "_view_module_version": "1.2.0",
            "grid_template_areas": null,
            "object_position": null,
            "object_fit": null,
            "grid_auto_columns": null,
            "margin": null,
            "display": null,
            "left": null
          }
        },
        "a6f42d719aa34b4a8886697139dedb16": {
          "model_module": "@jupyter-widgets/controls",
          "model_name": "DescriptionStyleModel",
          "model_module_version": "1.5.0",
          "state": {
            "_view_name": "StyleView",
            "_model_name": "DescriptionStyleModel",
            "description_width": "",
            "_view_module": "@jupyter-widgets/base",
            "_model_module_version": "1.5.0",
            "_view_count": null,
            "_view_module_version": "1.2.0",
            "_model_module": "@jupyter-widgets/controls"
          }
        },
        "e1990604f41e4c9180bed790a234ed09": {
          "model_module": "@jupyter-widgets/base",
          "model_name": "LayoutModel",
          "model_module_version": "1.2.0",
          "state": {
            "_view_name": "LayoutView",
            "grid_template_rows": null,
            "right": null,
            "justify_content": null,
            "_view_module": "@jupyter-widgets/base",
            "overflow": null,
            "_model_module_version": "1.2.0",
            "_view_count": null,
            "flex_flow": null,
            "width": null,
            "min_width": null,
            "border": null,
            "align_items": null,
            "bottom": null,
            "_model_module": "@jupyter-widgets/base",
            "top": null,
            "grid_column": null,
            "overflow_y": null,
            "overflow_x": null,
            "grid_auto_flow": null,
            "grid_area": null,
            "grid_template_columns": null,
            "flex": null,
            "_model_name": "LayoutModel",
            "justify_items": null,
            "grid_row": null,
            "max_height": null,
            "align_content": null,
            "visibility": null,
            "align_self": null,
            "height": null,
            "min_height": null,
            "padding": null,
            "grid_auto_rows": null,
            "grid_gap": null,
            "max_width": null,
            "order": null,
            "_view_module_version": "1.2.0",
            "grid_template_areas": null,
            "object_position": null,
            "object_fit": null,
            "grid_auto_columns": null,
            "margin": null,
            "display": null,
            "left": null
          }
        }
      }
    }
  },
  "nbformat": 4,
  "nbformat_minor": 0
}